{
 "cells": [
  {
   "cell_type": "markdown",
   "id": "98fd1ec4-2655-4efb-9698-b85bab8cad30",
   "metadata": {},
   "source": [
    "# Data Analyst Seepferdchen"
   ]
  },
  {
   "cell_type": "markdown",
   "id": "f1e96fc6-cc0d-4d35-9284-88d65507240d",
   "metadata": {},
   "source": [
    "## Einführung Python"
   ]
  },
  {
   "cell_type": "code",
   "execution_count": 1,
   "id": "60a196f3-a4df-4862-b820-652c0fb288a0",
   "metadata": {},
   "outputs": [
    {
     "name": "stderr",
     "output_type": "stream",
     "text": [
      "C:\\Users\\lenar\\AppData\\Local\\Temp\\ipykernel_18032\\522054989.py:1: DeprecationWarning: \n",
      "Pyarrow will become a required dependency of pandas in the next major release of pandas (pandas 3.0),\n",
      "(to allow more performant data types, such as the Arrow string type, and better interoperability with other libraries)\n",
      "but was not found to be installed on your system.\n",
      "If this would cause problems for you,\n",
      "please provide us feedback at https://github.com/pandas-dev/pandas/issues/54466\n",
      "        \n",
      "  import pandas as pd\n"
     ]
    }
   ],
   "source": [
    "import pandas as pd\n",
    "import numpy as np\n",
    "import seaborn as sns\n",
    "import matplotlib.pyplot as plt\n",
    "import sklearn"
   ]
  },
  {
   "cell_type": "code",
   "execution_count": 2,
   "id": "e5219ffa-09b1-4871-9afc-689fed4c34e3",
   "metadata": {},
   "outputs": [
    {
     "name": "stdout",
     "output_type": "stream",
     "text": [
      "Willkommen im Jupyter Notebook\n"
     ]
    }
   ],
   "source": [
    "#Willkommensgruß\n",
    "print(\"Willkommen im Jupyter Notebook\")"
   ]
  },
  {
   "cell_type": "code",
   "execution_count": 3,
   "id": "d4e6274f-1c87-4b63-9164-d1d9de70bd01",
   "metadata": {},
   "outputs": [],
   "source": [
    "# x kriegt den Wert 5 und y kriegt den Wert 6 zugewiesen\n",
    "x = 5\n",
    "y = 6"
   ]
  },
  {
   "cell_type": "code",
   "execution_count": null,
   "id": "050c6741-fa93-44f7-a349-ca5b9ee6b43a",
   "metadata": {},
   "outputs": [],
   "source": [
    "# x kriegt einen neuen Wert zugewiesen\n",
    "x = 4"
   ]
  },
  {
   "cell_type": "code",
   "execution_count": null,
   "id": "5ead6d73-725d-492d-a855-4ad454ee10b7",
   "metadata": {},
   "outputs": [],
   "source": [
    "x"
   ]
  },
  {
   "cell_type": "code",
   "execution_count": null,
   "id": "57f9784b-9e82-4d76-afda-af0f651116b3",
   "metadata": {},
   "outputs": [],
   "source": [
    "x + y"
   ]
  },
  {
   "cell_type": "code",
   "execution_count": null,
   "id": "8df63045-680e-4947-99db-f58fa8ae04fe",
   "metadata": {},
   "outputs": [],
   "source": [
    "arr = [1,2,3,4]\n",
    "arr"
   ]
  },
  {
   "cell_type": "code",
   "execution_count": null,
   "id": "db1cf4fe-863c-4952-a063-4325a03be46c",
   "metadata": {},
   "outputs": [],
   "source": [
    "#Importieren der Pandas Library und der Funktion randn()\n",
    "import pandas as pd\n",
    "from numpy.random import randn\n",
    "\n",
    "# Hier entsteht ein DataFrame mit 40 zufälligen Werten auf 4 Spalten aufgeteilt:\n",
    "df = pd.DataFrame(randn(10,4), columns=[\"A\",\"B\",\"C\",\"D\"])"
   ]
  },
  {
   "cell_type": "code",
   "execution_count": null,
   "id": "149ec466-7bb5-42d1-9e8e-fd7eec0367df",
   "metadata": {},
   "outputs": [],
   "source": [
    "df.head()"
   ]
  },
  {
   "cell_type": "code",
   "execution_count": null,
   "id": "76789d85-d2bd-418e-9201-8197abb4519d",
   "metadata": {},
   "outputs": [],
   "source": [
    "df['A']"
   ]
  },
  {
   "cell_type": "code",
   "execution_count": null,
   "id": "d1aec674-085d-4af6-b619-a0e60878357c",
   "metadata": {},
   "outputs": [],
   "source": [
    "df[['A','B']]"
   ]
  },
  {
   "cell_type": "code",
   "execution_count": null,
   "id": "2c27f0d2-0e4c-40ae-8576-198eb6b5dd07",
   "metadata": {},
   "outputs": [],
   "source": [
    "df['new'] = df['A'] + df['B'] + df['C'] + df['D']"
   ]
  },
  {
   "cell_type": "code",
   "execution_count": null,
   "id": "38cf0a5c-c024-45b4-bbbc-0d471c8b13aa",
   "metadata": {},
   "outputs": [],
   "source": [
    "df.head()"
   ]
  },
  {
   "cell_type": "code",
   "execution_count": null,
   "id": "dff9811f-303c-4920-9c4a-9090e7c4b91e",
   "metadata": {},
   "outputs": [],
   "source": [
    "# Spalte \"new\" löschen\n",
    "df = df.drop('new',axis=1)"
   ]
  },
  {
   "cell_type": "code",
   "execution_count": null,
   "id": "91aef3c3-68ae-4cb3-8160-79cdfc4f3ad3",
   "metadata": {},
   "outputs": [],
   "source": [
    "df.head()"
   ]
  },
  {
   "cell_type": "markdown",
   "id": "057e3af7-e5a5-4100-88c1-ab37b9002620",
   "metadata": {},
   "source": [
    "## Los geht's!"
   ]
  },
  {
   "cell_type": "markdown",
   "id": "57659091-f75a-4314-bc58-8fc5b59d6ce1",
   "metadata": {},
   "source": [
    "### Erster Kontakt mit dem Datensatz"
   ]
  },
  {
   "cell_type": "code",
   "execution_count": null,
   "id": "290ef01b-f0a0-44db-af78-4d5aa836a266",
   "metadata": {},
   "outputs": [],
   "source": [
    "data = pd.read_csv(\"Purchasing_Behavior_FakeDataset.csv\")\n",
    "df = data\n",
    "df.head()"
   ]
  },
  {
   "cell_type": "markdown",
   "id": "7c5d2b30-f1b7-4e11-bb57-a1f7a63936ec",
   "metadata": {},
   "source": [
    "**Unsere Aufgabe: \n",
    "Wie könnte man purchase_amount vorhersagen?**"
   ]
  },
  {
   "cell_type": "code",
   "execution_count": null,
   "id": "abc7e477-ebbc-4a42-84e1-ce2c3a6be780",
   "metadata": {},
   "outputs": [],
   "source": [
    "plot_functions = ['barplot', 'histplot', 'kdeplot', 'lineplot', 'scatterplot']\n",
    "\n",
    "#sns.<plot_function>(dataframe, x=x_axis_feature, y=y_axis_feature)\n",
    "sns.barplot(df, x=\"annual_income\", y=\"purchase_amount\")#, hue=\"region\")"
   ]
  },
  {
   "cell_type": "code",
   "execution_count": null,
   "id": "bddbdcd8-a736-45ba-a344-dc4c1b00e912",
   "metadata": {},
   "outputs": [],
   "source": [
    "sns.pairplot(df)\n",
    "plt.show()"
   ]
  },
  {
   "cell_type": "markdown",
   "id": "28f70786-96c2-4d74-87cb-854b5c10d345",
   "metadata": {},
   "source": [
    "Lege die Prädiktoren und die Target Values fest, indem du die richtigen Spalten aus unserem DataFrame (df) aussuchst."
   ]
  },
  {
   "cell_type": "code",
   "execution_count": null,
   "id": "350bd7bf-1f18-4b7c-821f-c7b85390a4cf",
   "metadata": {},
   "outputs": [],
   "source": [
    "y = #Target Values\n",
    "X = #Prädiktoren"
   ]
  },
  {
   "cell_type": "code",
   "execution_count": null,
   "id": "4bce6a99-8da5-47b0-bb74-5305a8cd9158",
   "metadata": {},
   "outputs": [],
   "source": [
    "from sklearn.model_selection import train_test_split\n",
    "\n",
    "X_train, X_test, y_train, y_test = train_test_split(\n",
    "    X, y, test_size=0.2, random_state=42)\n",
    "\n",
    "#was macht train_test_split?"
   ]
  },
  {
   "cell_type": "markdown",
   "id": "920eb4fb-86f7-4937-8025-4b743c062d82",
   "metadata": {},
   "source": [
    "### Training"
   ]
  },
  {
   "cell_type": "code",
   "execution_count": null,
   "id": "eca28d2a-b6e5-453d-aa0e-8e7ac0918f71",
   "metadata": {},
   "outputs": [],
   "source": [
    "from sklearn.linear_model import LinearRegression\n",
    "\n",
    "model = LinearRegression()\n",
    "#model ist eine Instanz der Klasse LinearRegression()\n",
    "#die Klasse hat eine Funktion fit()\n",
    "#Mit model.fit(<Prädiktoren>, <Target Values>) kannst du das Modell trainieren\n"
   ]
  },
  {
   "cell_type": "code",
   "execution_count": null,
   "id": "7ea83155-df93-40e3-aec0-c744314d7db0",
   "metadata": {},
   "outputs": [],
   "source": [
    "#erstelle eine Variable y_pred, die model.predict(<Prädiktoren>) zugewiesen bekommt"
   ]
  },
  {
   "cell_type": "markdown",
   "id": "edb5918f-e0cc-491b-8d8e-7f3501872006",
   "metadata": {},
   "source": [
    "### Testing / Evaluation"
   ]
  },
  {
   "cell_type": "markdown",
   "id": "c74b2ae8-3185-4fae-a597-558f14840de4",
   "metadata": {},
   "source": [
    "R² und Wurzel der Residuenquadratsumme / Root Mean Squared Error (RMSE)"
   ]
  },
  {
   "cell_type": "code",
   "execution_count": null,
   "id": "f497ebd2-81d8-40c6-a1e2-5688577f0b7d",
   "metadata": {},
   "outputs": [],
   "source": [
    "from sklearn.metrics import r2_score\n",
    "from sklearn.metrics import root_mean_squared_error\n",
    "\n",
    "r2 = r2_score(y_test, y_pred)\n",
    "print('r2: ', r2)\n",
    "\n",
    "rmse = root_mean_squared_error(y_test, y_pred)\n",
    "print('rmse: ', rmse)\n",
    "\n",
    "#rmse ist die durchschnittliche abweichung zur Regressionsgraden. Was braucht man, um diesen Wert gut einzuschätzen?"
   ]
  },
  {
   "cell_type": "markdown",
   "id": "ccbe9ef9-abe6-4159-987b-a29ffb5e9e30",
   "metadata": {},
   "source": [
    "Residuen Plot"
   ]
  },
  {
   "cell_type": "code",
   "execution_count": null,
   "id": "0b38006c-b6c7-4136-afb9-33e292295202",
   "metadata": {},
   "outputs": [],
   "source": [
    "d = pd.DataFrame({\"y_test\": y_test[\"purchase_amount\"], \"y_pred\": y_pred[:,0]})\n",
    "d.head()"
   ]
  },
  {
   "cell_type": "code",
   "execution_count": null,
   "id": "63fc67cd-145e-47fa-b2e0-3c36f2c3f1bd",
   "metadata": {},
   "outputs": [],
   "source": [
    "residuen = #berechne die Residuen (nutze DataFrame d)\n",
    "\n",
    "#plotte die residuen mit einem geeigneten plot \n",
    "#sns.<plot_function>(residuen)\n",
    "\n",
    "plt.xticks(rotation=90) #Rotiert nur die Beschriftung der X-Achse"
   ]
  },
  {
   "cell_type": "code",
   "execution_count": null,
   "id": "97ebb244-2780-4ad4-8788-f72c959c8b13",
   "metadata": {},
   "outputs": [],
   "source": [
    "pd.DataFrame({'Prädiktor':X.columns, 'Koeffizient':model.coef_[0]})"
   ]
  },
  {
   "cell_type": "markdown",
   "id": "500cebab-9ea2-4ea5-81ce-19945e5c101a",
   "metadata": {},
   "source": [
    "Warum hat annual_income einen größeren Einfluss als age?"
   ]
  },
  {
   "cell_type": "code",
   "execution_count": null,
   "id": "8c35011a-7ab2-43cd-af75-2b6ff3373d0e",
   "metadata": {},
   "outputs": [],
   "source": [
    "df.head()"
   ]
  },
  {
   "cell_type": "markdown",
   "id": "473177f6-e1cf-4c89-a5e2-36b7530caf6a",
   "metadata": {},
   "source": [
    "## Wiederholung"
   ]
  },
  {
   "cell_type": "code",
   "execution_count": null,
   "id": "0eb1d6d0-f68b-43ef-90e8-2fcfd4556ab7",
   "metadata": {},
   "outputs": [],
   "source": [
    "from sklearn.preprocessing import MinMaxScaler\n",
    "\n",
    "scaler = MinMaxScaler()\n",
    "scaled_df = data.drop([\"region\"], axis=1)\n",
    "scaled_df = pd.DataFrame(scaler.fit_transform(scaled_df), columns=scaled_df.columns)\n",
    "scaled_df.head()"
   ]
  },
  {
   "cell_type": "code",
   "execution_count": null,
   "id": "c8bfb18d-ce95-4e43-be58-098581c47217",
   "metadata": {},
   "outputs": [],
   "source": []
  }
 ],
 "metadata": {
  "kernelspec": {
   "display_name": "Python 3 (ipykernel)",
   "language": "python",
   "name": "python3"
  },
  "language_info": {
   "codemirror_mode": {
    "name": "ipython",
    "version": 3
   },
   "file_extension": ".py",
   "mimetype": "text/x-python",
   "name": "python",
   "nbconvert_exporter": "python",
   "pygments_lexer": "ipython3",
   "version": "3.10.0"
  }
 },
 "nbformat": 4,
 "nbformat_minor": 5
}
